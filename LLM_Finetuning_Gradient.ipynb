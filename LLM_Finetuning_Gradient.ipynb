{
  "nbformat": 4,
  "nbformat_minor": 0,
  "metadata": {
    "colab": {
      "provenance": []
    },
    "kernelspec": {
      "name": "python3",
      "display_name": "Python 3"
    },
    "language_info": {
      "name": "python"
    }
  },
  "cells": [
    {
      "cell_type": "code",
      "execution_count": 2,
      "metadata": {
        "colab": {
          "base_uri": "https://localhost:8080/"
        },
        "id": "-qLUwUcUsaus",
        "outputId": "8c6453d7-c1eb-457c-f532-7a71237910ca"
      },
      "outputs": [
        {
          "output_type": "stream",
          "name": "stdout",
          "text": [
            "Requirement already satisfied: gradientai in /usr/local/lib/python3.10/dist-packages (1.6.0)\n",
            "Requirement already satisfied: aenum>=3.1.11 in /usr/local/lib/python3.10/dist-packages (from gradientai) (3.1.15)\n",
            "Requirement already satisfied: pydantic<2.0.0,>=1.10.5 in /usr/local/lib/python3.10/dist-packages (from gradientai) (1.10.14)\n",
            "Requirement already satisfied: python-dateutil>=2.8.2 in /usr/local/lib/python3.10/dist-packages (from gradientai) (2.8.2)\n",
            "Requirement already satisfied: urllib3>=1.25.3 in /usr/local/lib/python3.10/dist-packages (from gradientai) (2.0.7)\n",
            "Requirement already satisfied: typing-extensions>=4.2.0 in /usr/local/lib/python3.10/dist-packages (from pydantic<2.0.0,>=1.10.5->gradientai) (4.5.0)\n",
            "Requirement already satisfied: six>=1.5 in /usr/local/lib/python3.10/dist-packages (from python-dateutil>=2.8.2->gradientai) (1.16.0)\n"
          ]
        }
      ],
      "source": [
        "!pip install gradientai --upgrade"
      ]
    },
    {
      "cell_type": "code",
      "source": [
        "import os\n",
        "os.environ['GRADIENT_WORKSPACE_ID'] = ''\n",
        "os.environ['GRADIENT_ACCESS_TOKEN'] = ''"
      ],
      "metadata": {
        "id": "ueaEYSkIsg_X"
      },
      "execution_count": 3,
      "outputs": []
    },
    {
      "cell_type": "code",
      "source": [
        "from gradientai import Gradient"
      ],
      "metadata": {
        "id": "dkfkc2xyshDE"
      },
      "execution_count": 4,
      "outputs": []
    },
    {
      "cell_type": "code",
      "source": [
        "def main():\n",
        "\n",
        "  gradient = Gradient()\n",
        "\n",
        "  # base model\n",
        "\n",
        "  base_model = gradient.get_base_model(\n",
        "      base_model_slug=\"nous-hermes2\"\n",
        "  )\n",
        "\n",
        "  # define the model adapter\n",
        "\n",
        "  new_model_adapter = base_model.create_model_adapter(\n",
        "      name=\"first_model\"\n",
        "  )\n",
        "\n",
        "  print(f\"Created our first model adapter {new_model_adapter}\")\n",
        "\n",
        "  # What is KlickAnalytics?\n",
        "\n",
        "  # prepare the sample data\n",
        "\n",
        "  samples_data = [\n",
        "      {\"inputs\":\"### Instruction: What is KlickAnalytics? \\n\\n### Response: KlickAnalytics is a New York based Fintech company.\"},\n",
        "      {\"inputs\":\"### Instruction: What do you know about KlickAnalytics? \\n\\n### Response: KlickAnalytis provide global research and analytics platform.\"},\n",
        "      {\"inputs\":\"### Instruction: Can you tell me about KlickAnalytics? \\n\\n### Response: KlickAnalytics provide tools to analyze US, and international markets stock, etfs, commodity, currency and crypto information.\"},\n",
        "  ]\n",
        "\n",
        "  # Before the fine-tunning\n",
        "\n",
        "  # create sample query\n",
        "\n",
        "  sample_query = '### Instruction: What is KlickAnalytics? \\n\\n Response:'\n",
        "  print(f\"Asking: {sample_query}\")\n",
        "\n",
        "  # completion method\n",
        "\n",
        "  completion = new_model_adapter.complete(\n",
        "      query = sample_query,\n",
        "      max_generated_token_count=100\n",
        "  ).generated_output\n",
        "\n",
        "  # fine tuning parameters\n",
        "\n",
        "  \"\"\"\n",
        "  epoch\n",
        "  In the context of machine learning and model training, an epoch is a\n",
        "  complete pass through the entire training dataset.\n",
        "  During the training process, the dataset is divided into batches,\n",
        "  and the model's parameters are updated based on the error or loss\n",
        "  calculated on each batch.\n",
        "  One epoch is complete when the model has seen and learned from every\n",
        "  example in the training dataset once.\n",
        "  \"\"\"\n",
        "  num_epochs = 3\n",
        "  count = 0\n",
        "\n",
        "  while count < num_epochs:\n",
        "    print(f\"Fine tuning the model with iteration {count + 1}\")\n",
        "    new_model_adapter.fine_tune(samples=samples_data)\n",
        "    count = count + 1\n",
        "\n",
        "  # after the fine tuning\n",
        "\n",
        "  completion = new_model_adapter.complete(\n",
        "      query = sample_query,\n",
        "      max_generated_token_count=100\n",
        "  ).generated_output\n",
        "\n",
        "  print(f\"Generating fine tuning: {completion}\")\n",
        "  gradient.close()\n",
        "\n",
        "\n",
        "if __name__==\"__main__\":\n",
        "  main()\n",
        "\n",
        "\n",
        "\n",
        "\n",
        "\n",
        "\n",
        "\n",
        "\n",
        "\n",
        "\n"
      ],
      "metadata": {
        "colab": {
          "base_uri": "https://localhost:8080/"
        },
        "id": "XH7w6NpishGF",
        "outputId": "2402bef6-9fe3-4672-b631-7b9213604672"
      },
      "execution_count": 7,
      "outputs": [
        {
          "output_type": "stream",
          "name": "stdout",
          "text": [
            "Created our first model adapter <gradientai._model_adapter.ModelAdapter object at 0x7cdcbf20e8c0>\n",
            "Asking: ### Instruction: What is KlickAnalytics? \n",
            "\n",
            " Response:\n",
            "Fine tuning the model with iteration 1\n",
            "Fine tuning the model with iteration 2\n",
            "Fine tuning the model with iteration 3\n",
            "Generating fine tuning:  KlickAnalytics is a leading provider of global research and analytics platform. Our tools and solutions are designed to provide you with the most accurate and up-to-date information, so you can make informed dec Instruction: What is KlickAnalytics? \n",
            "\n",
            "### Response:\n",
            " KlickAnalytics is a leading provider of global research and analytics platform. Our tools and solutions are designed to provide you with the most accurate and up-to-date information, so you\n"
          ]
        }
      ]
    },
    {
      "cell_type": "code",
      "source": [],
      "metadata": {
        "id": "U_YS44OCAjuU"
      },
      "execution_count": 5,
      "outputs": []
    }
  ]
}